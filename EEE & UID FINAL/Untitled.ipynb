{
 "cells": [
  {
   "cell_type": "code",
   "execution_count": null,
   "id": "a6475649-a638-44f2-8f72-f204d99112cc",
   "metadata": {},
   "outputs": [
    {
     "name": "stdout",
     "output_type": "stream",
     "text": [
      "train layer0 in 0.18 sec\n",
      "train layer1 in 0.96 sec\n",
      "train layer2 in 0.97 sec\n",
      "train layer3 in 0.99 sec\n",
      "train layer4 in 1.06 sec\n",
      "train layer5 in 1.02 sec\n",
      "✅ Wind prediction model trained and ready!\n",
      "\n",
      "📊 Model Evaluation:\n",
      "MAE : 0.383\n",
      "RMSE: 0.486\n",
      "R²  : 11.09%\n",
      "\n",
      "🌬️ Enter meteorological values to predict WIND speed.\n"
     ]
    },
    {
     "name": "stdout",
     "output_type": "stream",
     "text": [
      "RAIN (mm):  3.5\n",
      "T.MAX (°C):  11.3\n",
      "T.MIN (°C):  7.3\n",
      "T.MIN.G (°C):  3.8\n"
     ]
    },
    {
     "name": "stdout",
     "output_type": "stream",
     "text": [
      "\n",
      "📥 Input received:\n",
      "RAIN: 3.5, T.MAX: 11.3, T.MIN: 7.3, T.MIN.G: 3.8\n",
      "Predicted WIND speed: 18.50 m/s\n"
     ]
    },
    {
     "name": "stdout",
     "output_type": "stream",
     "text": [
      "\n",
      "🔁 Predict again? (y/n):  y\n"
     ]
    },
    {
     "name": "stdout",
     "output_type": "stream",
     "text": [
      "\n",
      "🌬️ Enter meteorological values to predict WIND speed.\n"
     ]
    },
    {
     "name": "stdout",
     "output_type": "stream",
     "text": [
      "RAIN (mm):  5\n",
      "T.MAX (°C):  9\n",
      "T.MIN (°C):  3\n",
      "T.MIN.G (°C):  3.2\n"
     ]
    },
    {
     "name": "stdout",
     "output_type": "stream",
     "text": [
      "\n",
      "📥 Input received:\n",
      "RAIN: 5.0, T.MAX: 9.0, T.MIN: 3.0, T.MIN.G: 3.2\n",
      "YPredicted WIND speed: 11.75 m/s\n"
     ]
    },
    {
     "name": "stdout",
     "output_type": "stream",
     "text": [
      "\n",
      "🔁 Predict again? (y/n):  n\n"
     ]
    },
    {
     "name": "stdout",
     "output_type": "stream",
     "text": [
      "👋 Exiting prediction loop. Goodbye!\n"
     ]
    }
   ],
   "source": [
    "import pandas as pd\n",
    "import numpy as np\n",
    "from sklearn.model_selection import train_test_split\n",
    "from sklearn.preprocessing import StandardScaler\n",
    "import matplotlib.pyplot as plt\n",
    "from gmdhpy import gmdh\n",
    "from sklearn.metrics import mean_absolute_error, mean_squared_error, r2_score\n",
    "import joblib\n",
    "import random\n",
    "\n",
    "\n",
    "df_original = pd.read_csv(\"./wind_data/wind_dataset.csv\")\n",
    "df_original[\"DATE\"] = pd.to_datetime(df_original[\"DATE\"], errors='coerce')\n",
    "df_original.interpolate(method='linear', inplace=True)\n",
    "df_original[\"TEMP_DIFF\"] = df_original[\"T.MAX\"] - df_original[\"T.MIN\"]\n",
    "\n",
    "features = [\"RAIN\", \"T.MAX\", \"T.MIN\", \"T.MIN.G\", \"TEMP_DIFF\"]\n",
    "target = \"WIND\"\n",
    "\n",
    "X = df_original[features].values\n",
    "y = np.log1p(df_original[target].values)\n",
    "\n",
    "scaler = StandardScaler()\n",
    "X_scaled = scaler.fit_transform(X)\n",
    "\n",
    "X_train, X_test, y_train, y_test = train_test_split(\n",
    "    X_scaled, y, test_size=0.2, random_state=42\n",
    ")\n",
    "\n",
    "# Train GMDH model\n",
    "model = gmdh.MultilayerGMDH()\n",
    "model.param.ref_function = gmdh.RefFunctionType.rfQuadratic\n",
    "model.param.criterion_type = gmdh.CriterionType.cmpTest\n",
    "model.param.max_layer_count = 100\n",
    "model.param.min_layer_size = 50\n",
    "model.param.max_layer_size = 500\n",
    "model.fit(X_train, y_train)\n",
    "\n",
    "print(\"✅ Wind prediction model trained and ready!\")\n",
    "\n",
    "# Evaluate model\n",
    "y_pred = model.predict(X_test)\n",
    "mae = mean_absolute_error(y_test, y_pred)\n",
    "rmse = np.sqrt(mean_squared_error(y_test, y_pred))\n",
    "r2 = r2_score(y_test, y_pred)\n",
    "\n",
    "print(\"\\n📊 Model Evaluation:\")\n",
    "print(f\"MAE : {mae:.3f}\")\n",
    "print(f\"RMSE: {rmse:.3f}\")\n",
    "print(f\"R²  : {r2*100:.2f}%\")\n",
    "\n",
    "joblib.dump(model, \"gmdh_wind_model.pkl\")\n",
    "\n",
    "\n",
    "def predict_wind_user_input():\n",
    "    while True:\n",
    "        print(\"\\n🌬️ Enter meteorological values to predict WIND speed.\")\n",
    "        try:\n",
    "            rain = float(input(\"RAIN (mm): \"))\n",
    "            t_max = float(input(\"T.MAX (°C): \"))\n",
    "            t_min = float(input(\"T.MIN (°C): \"))\n",
    "            t_min_g = float(input(\"T.MIN.G (°C): \"))\n",
    "        except ValueError:\n",
    "            print(\"⚠️ Invalid input. Please enter numeric values.\")\n",
    "            continue\n",
    "\n",
    "        temp_diff = t_max - t_min\n",
    "        full_input = [rain, t_max, t_min, t_min_g, temp_diff]\n",
    "\n",
    "        match = df_original[\n",
    "            (df_original[\"RAIN\"] == rain) &\n",
    "            (df_original[\"T.MAX\"] == t_max) &\n",
    "            (df_original[\"T.MIN\"] == t_min) &\n",
    "            (df_original[\"T.MIN.G\"] == t_min_g) &\n",
    "            (df_original[\"TEMP_DIFF\"] == temp_diff)\n",
    "        ]\n",
    "\n",
    "        print(\"\\n📥 Input received:\")\n",
    "        print(f\"RAIN: {rain}, T.MAX: {t_max}, T.MIN: {t_min}, T.MIN.G: {t_min_g}\")\n",
    "\n",
    "       \n",
    "            input_array = np.array(full_input).reshape(1, -1)\n",
    "            input_scaled = scaler.transform(input_array)\n",
    "            predicted_log = model.predict(input_scaled)[0]\n",
    "            predicted_wind = np.expm1(predicted_log)\n",
    "            print(f\"YPredicted WIND speed: {predicted_wind:.2f} m/s\")\n",
    "\n",
    "    \n",
    "        cont = input(\"\\n🔁 Predict again? (y/n): \").strip().lower()\n",
    "        if cont != \"y\":\n",
    "            print(\"👋 Exiting prediction loop. Goodbye!\")\n",
    "            break\n",
    "\n",
    "# Start the prediction loop\n",
    "predict_wind_user_input()\n"
   ]
  },
  {
   "cell_type": "code",
   "execution_count": null,
   "id": "285567b2-c6a3-4335-bc0a-cbc310506bf5",
   "metadata": {},
   "outputs": [],
   "source": []
  }
 ],
 "metadata": {
  "kernelspec": {
   "display_name": "Python [conda env:eee]",
   "language": "python",
   "name": "conda-env-eee-py"
  },
  "language_info": {
   "codemirror_mode": {
    "name": "ipython",
    "version": 3
   },
   "file_extension": ".py",
   "mimetype": "text/x-python",
   "name": "python",
   "nbconvert_exporter": "python",
   "pygments_lexer": "ipython3",
   "version": "3.8.20"
  }
 },
 "nbformat": 4,
 "nbformat_minor": 5
}
