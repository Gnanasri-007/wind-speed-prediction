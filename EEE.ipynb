{
  "nbformat": 4,
  "nbformat_minor": 0,
  "metadata": {
    "colab": {
      "provenance": [],
      "gpuType": "T4"
    },
    "kernelspec": {
      "name": "python3",
      "display_name": "Python 3"
    },
    "language_info": {
      "name": "python"
    }
  },
  "cells": [
    {
      "cell_type": "code",
      "source": [
        "!pip install --upgrade scikit-learn\n"
      ],
      "metadata": {
        "colab": {
          "base_uri": "https://localhost:8080/"
        },
        "id": "3uqP8oMQ8Wew",
        "outputId": "d5e5a886-7aa3-4f32-a61e-8a4e74c45d55"
      },
      "execution_count": 4,
      "outputs": [
        {
          "output_type": "stream",
          "name": "stdout",
          "text": [
            "Requirement already satisfied: scikit-learn in /usr/local/lib/python3.11/dist-packages (1.6.1)\n",
            "Requirement already satisfied: numpy>=1.19.5 in /usr/local/lib/python3.11/dist-packages (from scikit-learn) (1.26.4)\n",
            "Requirement already satisfied: scipy>=1.6.0 in /usr/local/lib/python3.11/dist-packages (from scikit-learn) (1.13.1)\n",
            "Requirement already satisfied: joblib>=1.2.0 in /usr/local/lib/python3.11/dist-packages (from scikit-learn) (1.4.2)\n",
            "Requirement already satisfied: threadpoolctl>=3.1.0 in /usr/local/lib/python3.11/dist-packages (from scikit-learn) (3.5.0)\n"
          ]
        }
      ]
    },
    {
      "source": [
        "import os\n",
        "import pandas as pd\n",
        "import numpy as np\n",
        "import joblib\n",
        "import shutil\n",
        "from sklearn.model_selection import train_test_split\n",
        "from sklearn.preprocessing import StandardScaler\n",
        "from sklearn.metrics import mean_absolute_error, mean_squared_error, r2_score\n",
        "from sklearn.neural_network import MLPRegressor\n",
        "\n",
        "# Step 1: Load Dataset\n",
        "csv_path = \"/content/wind_dataset.csv\"\n",
        "df = pd.read_csv(csv_path)\n",
        "\n",
        "# Step 2: Data Preprocessing\n",
        "df[\"DATE\"] = pd.to_datetime(df[\"DATE\"], errors='coerce')\n",
        "df.interpolate(method='linear', inplace=True)  # Handle missing values\n",
        "\n",
        "# Feature Engineering\n",
        "df[\"TEMP_DIFF\"] = df[\"T.MAX\"] - df[\"T.MIN\"]\n",
        "features = [\"RAIN\", \"T.MAX\", \"T.MIN\", \"T.MIN.G\", \"TEMP_DIFF\"]\n",
        "target = \"WIND\"\n",
        "\n",
        "X = df[features].values\n",
        "y = np.log1p(df[target].values)  # Apply log transformation to WIND speed\n",
        "\n",
        "# Normalize the data using StandardScaler\n",
        "scaler = StandardScaler()\n",
        "X_scaled = scaler.fit_transform(X)\n",
        "\n",
        "# Split into training and testing sets\n",
        "X_train, X_test, y_train, y_test = train_test_split(X_scaled, y, test_size=0.2, random_state=42)\n",
        "\n",
        "# Step 3: Train the Model\n",
        "model = MLPRegressor(\n",
        "    hidden_layer_sizes=(50, 30),  # More layers for better feature learning\n",
        "    activation='relu',\n",
        "    solver='adam',\n",
        "    max_iter=1000,  # Train longer for better accuracy\n",
        "    learning_rate_init=0.005,  # Smaller learning rate for stability\n",
        "    random_state=42\n",
        ")\n",
        "model.fit(X_train, y_train)\n",
        "\n",
        "# Step 4: Evaluate Model\n",
        "y_pred = np.expm1(model.predict(X_test))  # Convert predictions back from log scale\n",
        "y_test_actual = np.expm1(y_test)  # Convert actual values back\n",
        "\n",
        "mae = mean_absolute_error(y_test_actual, y_pred)\n",
        "rmse = np.sqrt(mean_squared_error(y_test_actual, y_pred))\n",
        "r2 = r2_score(y_test_actual, y_pred)\n",
        "\n",
        "print(f\" Model Performance:\")\n",
        "print(f\" Mean Absolute Error (MAE): {mae:.3f}\")\n",
        "print(f\" Root Mean Square Error (RMSE): {rmse:.3f}\")\n",
        "print(f\" Model Accuracy (R² Score): {r2*100:.2f}%\")\n",
        "\n",
        "# Step 5: Save the Model and Scaler\n",
        "os.makedirs(\"/content/wind_dataset\", exist_ok=True)  # Create folder if not exists\n",
        "model_filename = \"/content/wind_dataset/mlp_model.pkl\"\n",
        "scaler_filename = \"/content/wind_dataset/scaler.pkl\"\n",
        "\n",
        "joblib.dump(model, model_filename)\n",
        "joblib.dump(scaler, scaler_filename)\n",
        "\n",
        "# Verify if saved correctly\n",
        "if os.path.exists(model_filename) and os.path.exists(scaler_filename):\n",
        "    print(f\" Model saved successfully at {model_filename}\")\n",
        "    print(f\" Scaler saved successfully at {scaler_filename}\")\n",
        "else:\n",
        "    print(f\" Model saving failed! Check file paths.\")\n",
        "\n",
        "# Step 6: Allow Downloading Model\n",
        "from google.colab import files\n",
        "files.download(model_filename)\n",
        "files.download(scaler_filename)\n"
      ],
      "cell_type": "code",
      "metadata": {
        "colab": {
          "base_uri": "https://localhost:8080/",
          "height": 121
        },
        "id": "ciSENTVL9kTL",
        "outputId": "3bb686c0-b7b1-4056-de62-f18a99e3eacf"
      },
      "execution_count": null,
      "outputs": [
        {
          "output_type": "stream",
          "name": "stdout",
          "text": [
            "📊 Model Performance:\n",
            "✅ Mean Absolute Error (MAE): 3.601\n",
            "✅ Root Mean Square Error (RMSE): 4.639\n",
            "✅ Model Accuracy (R² Score): 14.17%\n",
            "✅ Model saved successfully at /content/wind_dataset/mlp_model.pkl\n",
            "✅ Scaler saved successfully at /content/wind_dataset/scaler.pkl\n"
          ]
        },
        {
          "output_type": "display_data",
          "data": {
            "text/plain": [
              "<IPython.core.display.Javascript object>"
            ],
            "application/javascript": [
              "\n",
              "    async function download(id, filename, size) {\n",
              "      if (!google.colab.kernel.accessAllowed) {\n",
              "        return;\n",
              "      }\n",
              "      const div = document.createElement('div');\n",
              "      const label = document.createElement('label');\n",
              "      label.textContent = `Downloading \"${filename}\": `;\n",
              "      div.appendChild(label);\n",
              "      const progress = document.createElement('progress');\n",
              "      progress.max = size;\n",
              "      div.appendChild(progress);\n",
              "      document.body.appendChild(div);\n",
              "\n",
              "      const buffers = [];\n",
              "      let downloaded = 0;\n",
              "\n",
              "      const channel = await google.colab.kernel.comms.open(id);\n",
              "      // Send a message to notify the kernel that we're ready.\n",
              "      channel.send({})\n",
              "\n",
              "      for await (const message of channel.messages) {\n",
              "        // Send a message to notify the kernel that we're ready.\n",
              "        channel.send({})\n",
              "        if (message.buffers) {\n",
              "          for (const buffer of message.buffers) {\n",
              "            buffers.push(buffer);\n",
              "            downloaded += buffer.byteLength;\n",
              "            progress.value = downloaded;\n",
              "          }\n",
              "        }\n",
              "      }\n",
              "      const blob = new Blob(buffers, {type: 'application/binary'});\n",
              "      const a = document.createElement('a');\n",
              "      a.href = window.URL.createObjectURL(blob);\n",
              "      a.download = filename;\n",
              "      div.appendChild(a);\n",
              "      a.click();\n",
              "      div.remove();\n",
              "    }\n",
              "  "
            ]
          },
          "metadata": {}
        },
        {
          "output_type": "display_data",
          "data": {
            "text/plain": [
              "<IPython.core.display.Javascript object>"
            ],
            "application/javascript": [
              "download(\"download_637600e3-5c9d-45a5-8c18-ada55516a9ba\", \"mlp_model.pkl\", 65791)"
            ]
          },
          "metadata": {}
        },
        {
          "output_type": "display_data",
          "data": {
            "text/plain": [
              "<IPython.core.display.Javascript object>"
            ],
            "application/javascript": [
              "\n",
              "    async function download(id, filename, size) {\n",
              "      if (!google.colab.kernel.accessAllowed) {\n",
              "        return;\n",
              "      }\n",
              "      const div = document.createElement('div');\n",
              "      const label = document.createElement('label');\n",
              "      label.textContent = `Downloading \"${filename}\": `;\n",
              "      div.appendChild(label);\n",
              "      const progress = document.createElement('progress');\n",
              "      progress.max = size;\n",
              "      div.appendChild(progress);\n",
              "      document.body.appendChild(div);\n",
              "\n",
              "      const buffers = [];\n",
              "      let downloaded = 0;\n",
              "\n",
              "      const channel = await google.colab.kernel.comms.open(id);\n",
              "      // Send a message to notify the kernel that we're ready.\n",
              "      channel.send({})\n",
              "\n",
              "      for await (const message of channel.messages) {\n",
              "        // Send a message to notify the kernel that we're ready.\n",
              "        channel.send({})\n",
              "        if (message.buffers) {\n",
              "          for (const buffer of message.buffers) {\n",
              "            buffers.push(buffer);\n",
              "            downloaded += buffer.byteLength;\n",
              "            progress.value = downloaded;\n",
              "          }\n",
              "        }\n",
              "      }\n",
              "      const blob = new Blob(buffers, {type: 'application/binary'});\n",
              "      const a = document.createElement('a');\n",
              "      a.href = window.URL.createObjectURL(blob);\n",
              "      a.download = filename;\n",
              "      div.appendChild(a);\n",
              "      a.click();\n",
              "      div.remove();\n",
              "    }\n",
              "  "
            ]
          },
          "metadata": {}
        },
        {
          "output_type": "display_data",
          "data": {
            "text/plain": [
              "<IPython.core.display.Javascript object>"
            ],
            "application/javascript": [
              "download(\"download_f91a43dc-a7cb-4ea2-bc75-f28e8ac8b122\", \"scaler.pkl\", 719)"
            ]
          },
          "metadata": {}
        }
      ]
    },
    {
      "cell_type": "code",
      "source": [
        "import joblib\n",
        "import numpy as np\n",
        "\n",
        "# Load the trained model and scaler\n",
        "model_filename = \"/content/wind_dataset/mlp_model.pkl\"\n",
        "scaler_filename = \"/content/wind_dataset/scaler.pkl\"\n",
        "\n",
        "model = joblib.load(model_filename)\n",
        "scaler = joblib.load(scaler_filename)\n",
        "\n",
        "# User input\n",
        "rain = float(input(\"Enter Rainfall (RAIN): \"))\n",
        "t_max = float(input(\"Enter Maximum Temperature (T.MAX): \"))\n",
        "t_min = float(input(\"Enter Minimum Temperature (T.MIN): \"))\n",
        "t_min_g = float(input(\"Enter Minimum Ground Temperature (T.MIN.G): \"))  # Ask user for T.MIN.G\n",
        "\n",
        "# Derived feature\n",
        "temp_diff = t_max - t_min\n",
        "\n",
        "# Prepare input data\n",
        "input_data = np.array([[rain, t_max, t_min, t_min_g, temp_diff]])\n",
        "\n",
        "# Normalize the input using StandardScaler\n",
        "input_data_scaled = scaler.transform(input_data)\n",
        "\n",
        "# Predict WIND speed and convert back from log scale\n",
        "predicted_wind = np.expm1(model.predict(input_data_scaled))[0]\n",
        "\n",
        "# Display the result\n",
        "print(f\"\\n🌪️ Predicted Wind Speed: {predicted_wind:.2f}\")\n"
      ],
      "metadata": {
        "colab": {
          "base_uri": "https://localhost:8080/"
        },
        "id": "mgX9V726EW-n",
        "outputId": "758f5f9e-5835-4a0c-f76a-30bd50e44bc5"
      },
      "execution_count": 5,
      "outputs": [
        {
          "output_type": "stream",
          "name": "stdout",
          "text": [
            "Enter Rainfall (RAIN): 5\n",
            "Enter Maximum Temperature (T.MAX): 0.1\n",
            "Enter Minimum Temperature (T.MIN): 21\n",
            "Enter Minimum Ground Temperature (T.MIN.G): 11.1\n",
            "\n",
            "🌪️ Predicted Wind Speed: 39.40\n"
          ]
        }
      ]
    }
  ]
}